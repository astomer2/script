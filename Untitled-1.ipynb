{
 "cells": [
  {
   "cell_type": "code",
   "execution_count": 1,
   "metadata": {},
   "outputs": [],
   "source": [
    "import pandas as pd\n",
    "import os\n",
    "from pathlib import Path\n",
    "import sys\n",
    "sys.path.append(os.path.abspath(\".\"))\n",
    "from utils_peptide.peptide_properties import calc_physico_chemical_properties"
   ]
  },
  {
   "cell_type": "code",
   "execution_count": 2,
   "metadata": {},
   "outputs": [],
   "source": [
    "xlsx = Path('/mnt/nas1/lanwei-125/MC5R/dock/ADCP/ADCP_result.xlsx')"
   ]
  },
  {
   "cell_type": "code",
   "execution_count": 7,
   "metadata": {},
   "outputs": [],
   "source": [
    "df1 = pd.read_excel(xlsx, sheet_name=1)\n",
    "df2 = pd.read_excel(xlsx, sheet_name=2)\n",
    "df3 = pd.read_excel(xlsx, sheet_name=3)\n",
    "df4= pd.read_excel(xlsx, sheet_name=4)\n",
    "df5= pd.read_excel(xlsx, sheet_name=5)\n",
    "df6 = pd.concat([df1, df2, df3, df4, df5], ignore_index=True)"
   ]
  },
  {
   "cell_type": "code",
   "execution_count": 28,
   "metadata": {},
   "outputs": [],
   "source": [
    "df6.to_csv('/mnt/nas1/lanwei-125/MC5R/dock/ADCP/ADCP_result.csv', index=False)"
   ]
  },
  {
   "cell_type": "code",
   "execution_count": 40,
   "metadata": {},
   "outputs": [
    {
     "name": "stdout",
     "output_type": "stream",
     "text": [
      "1957\n"
     ]
    },
    {
     "data": {
      "text/plain": [
       "1501"
      ]
     },
     "execution_count": 40,
     "metadata": {},
     "output_type": "execute_result"
    }
   ],
   "source": [
    "a =df6['Sequence'].to_list()\n",
    "print(len(a))\n",
    "len(set(a))\n"
   ]
  },
  {
   "cell_type": "code",
   "execution_count": 19,
   "metadata": {},
   "outputs": [
    {
     "name": "stderr",
     "output_type": "stream",
     "text": [
      "24-02-22 14:02:25 peptide_properties.py 663: calc_properties by modlamp to calculate global descriptors\n",
      "24-02-22 14:02:25 peptide_properties.py 665: descriptor calculation finished and starts to convert to dataframe\n",
      "24-02-22 14:02:25 peptide_properties.py 580: df.shape (1957, 20)\n",
      "24-02-22 14:02:25 peptide_properties.py 581: df.columns ['Sequence', 'mix', 'max', 'avg', 'med', 'var', 'machine_score', 'length', 'len', 'Molecular weight(g/mol)', 'Charge', 'ChargeDensity(charge/MW)', 'Isoelectric point', 'InstabilityInd', 'Aromaticity', 'AliphaticInd', 'BomanInd', 'HydrophRatio', 'HydroMoment', 'GRAVY']\n",
      "24-02-22 14:02:25 peptide_properties.py 585: df.describe\n",
      "               mix          max          avg          med          var  \\\n",
      "count  1957.000000  1957.000000  1957.000000  1957.000000  1957.000000   \n",
      "mean    -18.571538   -17.147522   -17.833809   -17.809760     0.323610   \n",
      "std       2.248895     2.146639     2.167785     2.175244     0.314998   \n",
      "min     -29.700000   -27.500000   -28.680000   -28.700000     0.006000   \n",
      "25%     -19.900000   -18.300000   -19.060000   -19.000000     0.116000   \n",
      "50%     -18.600000   -17.100000   -17.820000   -17.800000     0.222000   \n",
      "75%     -17.200000   -16.000000   -16.620000   -16.600000     0.418000   \n",
      "max      -8.300000    -7.800000    -8.140000    -8.200000     2.306000   \n",
      "\n",
      "       machine_score       length          len  Molecular weight(g/mol)  \\\n",
      "count    1957.000000  1957.000000  1957.000000              1957.000000   \n",
      "mean      -17.257206     7.435871     7.435871               838.811421   \n",
      "std         2.145435     1.299127     1.299127               151.903952   \n",
      "min       -27.694000     5.000000     5.000000               439.510000   \n",
      "25%       -18.427000     7.000000     7.000000               734.850000   \n",
      "50%       -17.247000     7.000000     7.000000               829.950000   \n",
      "75%       -16.090098     8.000000     8.000000               922.130000   \n",
      "max        -7.932636    10.000000    10.000000              1226.500000   \n",
      "\n",
      "            Charge  ChargeDensity(charge/MW)  Isoelectric point  \\\n",
      "count  1957.000000               1957.000000        1957.000000   \n",
      "mean     -0.229152                 -0.000301           5.715719   \n",
      "std       1.034470                  0.001221           2.058524   \n",
      "min      -3.473000                 -0.005550           2.708984   \n",
      "25%      -0.474000                 -0.000735           4.875000   \n",
      "50%      -0.318000                 -0.000390           5.000000   \n",
      "75%       0.680000                  0.000637           8.088867   \n",
      "max       4.835000                  0.004868          12.101562   \n",
      "\n",
      "       InstabilityInd  Aromaticity  AliphaticInd     BomanInd  HydrophRatio  \\\n",
      "count     1957.000000  1957.000000   1957.000000  1957.000000   1957.000000   \n",
      "mean        56.215296     0.116624     56.494868     0.312376      0.523330   \n",
      "std         47.556849     0.104684     51.367769     1.693166      0.176551   \n",
      "min        -67.971429     0.000000      0.000000    -3.706667      0.166667   \n",
      "25%         22.085714     0.000000     12.500000    -0.812857      0.400000   \n",
      "50%         49.600000     0.111111     49.000000     0.285000      0.500000   \n",
      "75%         82.662500     0.166667     86.666667     1.347500      0.625000   \n",
      "max        248.960000     0.500000    260.000000     7.371429      1.000000   \n",
      "\n",
      "       HydroMoment        GRAVY  \n",
      "count  1957.000000  1957.000000  \n",
      "mean      0.260491     0.513936  \n",
      "std       0.165427     1.039700  \n",
      "min       0.003546    -2.916667  \n",
      "25%       0.139686    -0.250000  \n",
      "50%       0.223415     0.400000  \n",
      "75%       0.344122     1.157143  \n",
      "max       0.983580     3.483333  \n"
     ]
    }
   ],
   "source": [
    "df7 =calc_physico_chemical_properties(df6)"
   ]
  },
  {
   "cell_type": "code",
   "execution_count": null,
   "metadata": {},
   "outputs": [],
   "source": []
  },
  {
   "cell_type": "code",
   "execution_count": 25,
   "metadata": {},
   "outputs": [],
   "source": [
    "condition = (df7.iloc[:, 1] < -17.4) & (df7.iloc[:, 5] < 0.908) & (df7.iloc[:, -1] > -1) & (df7.iloc[:, -1] < 1)\n",
    "#去除df7中的重复\n",
    "\n",
    "filtered_df = df7[condition]\n"
   ]
  },
  {
   "cell_type": "code",
   "execution_count": 41,
   "metadata": {},
   "outputs": [
    {
     "ename": "KeyError",
     "evalue": "Index(['sequence'], dtype='object')",
     "output_type": "error",
     "traceback": [
      "\u001b[0;31m---------------------------------------------------------------------------\u001b[0m",
      "\u001b[0;31mKeyError\u001b[0m                                  Traceback (most recent call last)",
      "Cell \u001b[0;32mIn[41], line 1\u001b[0m\n\u001b[0;32m----> 1\u001b[0m df7 \u001b[38;5;241m=\u001b[39m \u001b[43mdf6\u001b[49m\u001b[38;5;241;43m.\u001b[39;49m\u001b[43mdrop_duplicates\u001b[49m\u001b[43m(\u001b[49m\u001b[43msubset\u001b[49m\u001b[38;5;241;43m=\u001b[39;49m\u001b[43m[\u001b[49m\u001b[38;5;124;43m'\u001b[39;49m\u001b[38;5;124;43msequence\u001b[39;49m\u001b[38;5;124;43m'\u001b[39;49m\u001b[43m]\u001b[49m\u001b[43m,\u001b[49m\u001b[43m \u001b[49m\u001b[43mkeep\u001b[49m\u001b[38;5;241;43m=\u001b[39;49m\u001b[38;5;124;43m'\u001b[39;49m\u001b[38;5;124;43mmin\u001b[39;49m\u001b[38;5;124;43m'\u001b[39;49m\u001b[43m)\u001b[49m\n\u001b[1;32m      2\u001b[0m df7\n",
      "File \u001b[0;32m~/anaconda3/envs/AmberTools20/lib/python3.9/site-packages/pandas/core/frame.py:5268\u001b[0m, in \u001b[0;36mDataFrame.drop_duplicates\u001b[0;34m(self, subset, keep, inplace, ignore_index)\u001b[0m\n\u001b[1;32m   5266\u001b[0m inplace \u001b[38;5;241m=\u001b[39m validate_bool_kwarg(inplace, \u001b[38;5;124m\"\u001b[39m\u001b[38;5;124minplace\u001b[39m\u001b[38;5;124m\"\u001b[39m)\n\u001b[1;32m   5267\u001b[0m ignore_index \u001b[38;5;241m=\u001b[39m validate_bool_kwarg(ignore_index, \u001b[38;5;124m\"\u001b[39m\u001b[38;5;124mignore_index\u001b[39m\u001b[38;5;124m\"\u001b[39m)\n\u001b[0;32m-> 5268\u001b[0m duplicated \u001b[38;5;241m=\u001b[39m \u001b[38;5;28;43mself\u001b[39;49m\u001b[38;5;241;43m.\u001b[39;49m\u001b[43mduplicated\u001b[49m\u001b[43m(\u001b[49m\u001b[43msubset\u001b[49m\u001b[43m,\u001b[49m\u001b[43m \u001b[49m\u001b[43mkeep\u001b[49m\u001b[38;5;241;43m=\u001b[39;49m\u001b[43mkeep\u001b[49m\u001b[43m)\u001b[49m\n\u001b[1;32m   5270\u001b[0m result \u001b[38;5;241m=\u001b[39m \u001b[38;5;28mself\u001b[39m[\u001b[38;5;241m-\u001b[39mduplicated]\n\u001b[1;32m   5271\u001b[0m \u001b[38;5;28;01mif\u001b[39;00m ignore_index:\n",
      "File \u001b[0;32m~/anaconda3/envs/AmberTools20/lib/python3.9/site-packages/pandas/core/frame.py:5402\u001b[0m, in \u001b[0;36mDataFrame.duplicated\u001b[0;34m(self, subset, keep)\u001b[0m\n\u001b[1;32m   5400\u001b[0m diff \u001b[38;5;241m=\u001b[39m Index(subset)\u001b[38;5;241m.\u001b[39mdifference(\u001b[38;5;28mself\u001b[39m\u001b[38;5;241m.\u001b[39mcolumns)\n\u001b[1;32m   5401\u001b[0m \u001b[38;5;28;01mif\u001b[39;00m \u001b[38;5;129;01mnot\u001b[39;00m diff\u001b[38;5;241m.\u001b[39mempty:\n\u001b[0;32m-> 5402\u001b[0m     \u001b[38;5;28;01mraise\u001b[39;00m \u001b[38;5;167;01mKeyError\u001b[39;00m(diff)\n\u001b[1;32m   5404\u001b[0m vals \u001b[38;5;241m=\u001b[39m (col\u001b[38;5;241m.\u001b[39mvalues \u001b[38;5;28;01mfor\u001b[39;00m name, col \u001b[38;5;129;01min\u001b[39;00m \u001b[38;5;28mself\u001b[39m\u001b[38;5;241m.\u001b[39mitems() \u001b[38;5;28;01mif\u001b[39;00m name \u001b[38;5;129;01min\u001b[39;00m subset)\n\u001b[1;32m   5405\u001b[0m labels, shape \u001b[38;5;241m=\u001b[39m \u001b[38;5;28mmap\u001b[39m(\u001b[38;5;28mlist\u001b[39m, \u001b[38;5;28mzip\u001b[39m(\u001b[38;5;241m*\u001b[39m\u001b[38;5;28mmap\u001b[39m(f, vals)))\n",
      "\u001b[0;31mKeyError\u001b[0m: Index(['sequence'], dtype='object')"
     ]
    }
   ],
   "source": [
    "df7 = df6.drop_duplicates(subset=['sequence'], keep='min')\n",
    "df7"
   ]
  },
  {
   "cell_type": "code",
   "execution_count": 27,
   "metadata": {},
   "outputs": [],
   "source": []
  }
 ],
 "metadata": {
  "kernelspec": {
   "display_name": "AmberTools20",
   "language": "python",
   "name": "python3"
  },
  "language_info": {
   "codemirror_mode": {
    "name": "ipython",
    "version": 3
   },
   "file_extension": ".py",
   "mimetype": "text/x-python",
   "name": "python",
   "nbconvert_exporter": "python",
   "pygments_lexer": "ipython3",
   "version": "3.9.15"
  }
 },
 "nbformat": 4,
 "nbformat_minor": 2
}
