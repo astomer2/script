{
 "cells": [
  {
   "cell_type": "code",
   "execution_count": 310,
   "metadata": {},
   "outputs": [],
   "source": [
    "import os\n",
    "import numpy as np\n",
    "from sklearn.cluster import KMeans,HDBSCAN\n",
    "from sklearn.manifold import TSNE\n",
    "from sklearn.model_selection import GridSearchCV\n",
    "from sklearn.metrics import silhouette_score\n",
    "\n",
    "import multiprocessing as mp\n",
    "import matplotlib.pyplot as plt\n",
    "from pprint import pprint\n",
    "from shutil import copyfile\n",
    "\n",
    "import warnings\n"
   ]
  },
  {
   "cell_type": "code",
   "execution_count": 311,
   "metadata": {},
   "outputs": [],
   "source": [
    "protein_pdb = \"/mnt/sdc/lanwei/MC1R/MC1R.pdb\"\n",
    "peptide_pdb_dir = '/mnt/sdc/lanwei/MC1R/HPEP/v3/'\n",
    "point_plot = f'{peptide_pdb_dir}/cluster_point_plot.png'\n",
    "cluster_result = f'{peptide_pdb_dir}/cluster_result.txt'"
   ]
  },
  {
   "cell_type": "code",
   "execution_count": 312,
   "metadata": {},
   "outputs": [
    {
     "name": "stdout",
     "output_type": "stream",
     "text": [
      "2189\n"
     ]
    }
   ],
   "source": [
    "protein_coords = []\n",
    "with open(protein_pdb) as f:\n",
    "    for line in f:\n",
    "        if line.startswith('ATOM'):\n",
    "            x = float(line[30:38]) \n",
    "            y = float(line[38:46])\n",
    "            z = float(line[46:54]) \n",
    "            protein_coords.append([x, y, z])\n",
    "print(len(protein_coords))"
   ]
  },
  {
   "cell_type": "code",
   "execution_count": 313,
   "metadata": {},
   "outputs": [
    {
     "name": "stdout",
     "output_type": "stream",
     "text": [
      "110\n"
     ]
    }
   ],
   "source": [
    "peptide_coords = []\n",
    "peptide_names = []\n",
    "for pdb in os.listdir(peptide_pdb_dir):\n",
    "    if pdb.endswith('.pdb'):\n",
    "        coords = []\n",
    "        with open(os.path.join(peptide_pdb_dir, pdb)) as f:\n",
    "            for line in f:\n",
    "                if line.startswith('ATOM'):\n",
    "                    x = float(line[30:38])\n",
    "                    y = float(line[38:46]) \n",
    "                    z = float(line[46:54])\n",
    "                    coords.append([x, y, z])\n",
    "        peptide_coords.append(coords)\n",
    "        peptide_names.append(pdb.split('.')[0])\n",
    "print(len(peptide_coords))"
   ]
  },
  {
   "cell_type": "code",
   "execution_count": 314,
   "metadata": {},
   "outputs": [
    {
     "name": "stdout",
     "output_type": "stream",
     "text": [
      "110\n"
     ]
    }
   ],
   "source": [
    "def calc_contacts(peptide_idx, peptide_coords, protein_coords):\n",
    "    dists = [0] * len(protein_coords)\n",
    "    for p_idx, p_coord in enumerate(protein_coords):\n",
    "        contact = 0\n",
    "        for pe_coord in peptide_coords[peptide_idx]:\n",
    "            dist = np.linalg.norm(np.array(p_coord) - np.array(pe_coord))  \n",
    "            if dist < 7:\n",
    "                contact += 1\n",
    "                #break\n",
    "        \n",
    "        dists[p_idx] = contact\n",
    "        \n",
    "    return dists\n",
    "\n",
    "\n",
    "contact_matrices = []\n",
    "\n",
    "with mp.Pool() as pool:\n",
    "    results = [pool.apply_async(calc_contacts, args=(i, peptide_coords, protein_coords)) \n",
    "            for i in range(len(peptide_coords))]\n",
    "    contact_matrices = [r.get() for r in results]\n",
    "print(len(contact_matrices))\n"
   ]
  },
  {
   "cell_type": "code",
   "execution_count": 315,
   "metadata": {},
   "outputs": [],
   "source": [
    "contact_matrixs = []\n",
    "for dists in contact_matrices:\n",
    "    contact_matrixs.append(dists)\n",
    "contact_matrixs = np.array(contact_matrixs)\n",
    "\n",
    "def cluster_score(estimator, X, y):\n",
    "    labels = estimator.fit_predict(X)\n",
    "    if len(np.unique(labels)) <= 1:\n",
    "        return 0\n",
    "  \n",
    "    return silhouette_score(X, labels)"
   ]
  },
  {
   "cell_type": "code",
   "execution_count": null,
   "metadata": {},
   "outputs": [],
   "source": [
    "scores = {}\n",
    "for clusters_number in range(2, 15):\n",
    "\n",
    "        km = KMeans(n_clusters = clusters_number,\n",
    "                    #cluster_selection_epsilon = eps,\n",
    "                    n_init=10\n",
    "                     ) \n",
    "        labels = km.fit_predict(contact_matrixs)\n",
    "        score = cluster_score(km ,contact_matrixs,  labels)\n",
    "        scores[km] = score\n",
    "        print(f'{km} this params score is {score}')\n",
    "\n",
    "\n",
    "plt.plot(list(range(len(scores))), scores.values())\n",
    "plt.xlabel('Trials') \n",
    "plt.ylabel('Silhouette Score')\n",
    "plt.title('Silhouette Score vs Trials')\n",
    "plt.show\n",
    "\n",
    "print(max(scores, key=scores.get))\n"
   ]
  },
  {
   "cell_type": "code",
   "execution_count": null,
   "metadata": {},
   "outputs": [],
   "source": [
    "km = KMeans(n_clusters=2, \n",
    "            n_init=10\n",
    "            ) \n",
    "labels = km.fit_predict(contact_matrixs)\n",
    "score = cluster_score(km ,contact_matrixs,  labels)\n",
    "scores[km] = score\n",
    "print(f'{km} this params score is {score}')"
   ]
  },
  {
   "cell_type": "code",
   "execution_count": 317,
   "metadata": {},
   "outputs": [
    {
     "name": "stdout",
     "output_type": "stream",
     "text": [
      "HDBSCAN(min_cluster_size=2) this params score is 0.4228171410562349\n",
      "HDBSCAN(min_cluster_size=3) this params score is 0.4228171410562349\n",
      "HDBSCAN(min_cluster_size=4) this params score is 0.4228171410562349\n",
      "HDBSCAN() this params score is 0.4228171410562349\n",
      "HDBSCAN(min_cluster_size=6) this params score is 0.4228171410562349\n",
      "HDBSCAN(min_cluster_size=7) this params score is 0.4228171410562349\n",
      "HDBSCAN(min_cluster_size=8) this params score is 0.4228171410562349\n",
      "HDBSCAN(min_cluster_size=9) this params score is 0.4228171410562349\n",
      "HDBSCAN(min_cluster_size=10) this params score is 0.3988339114179284\n",
      "HDBSCAN(min_cluster_size=11) this params score is 0.3988339114179284\n",
      "HDBSCAN(min_cluster_size=12) this params score is 0.3988339114179284\n",
      "HDBSCAN(min_cluster_size=13) this params score is 0.3988339114179284\n",
      "HDBSCAN(min_cluster_size=14) this params score is 0.3988339114179284\n",
      "HDBSCAN(min_cluster_size=2)\n"
     ]
    },
    {
     "data": {
      "image/png": "[encoded data removed]",
      "text/plain": [
       "<Figure size 640x480 with 1 Axes>"
      ]
     },
     "metadata": {},
     "output_type": "display_data"
    }
   ],
   "source": [
    "\n",
    "scores = {}\n",
    "for clusters_number in range(2, 15):\n",
    "    #for eps in [x*0.1 for x in range(1,20,2)]:\n",
    "\n",
    "        km = HDBSCAN(min_cluster_size = clusters_number,\n",
    "                     #cluster_selection_epsilon = eps\n",
    "                     ) \n",
    "        labels = km.fit_predict(contact_matrixs)\n",
    "        score = cluster_score(km ,contact_matrixs,  labels)\n",
    "        scores[km] = score\n",
    "        print(f'{km} this params score is {score}')\n",
    "\n",
    "\n",
    "plt.plot(list(range(len(scores))), scores.values())\n",
    "plt.xlabel('Trials') \n",
    "plt.ylabel('Silhouette Score')\n",
    "plt.title('Silhouette Score vs Trials')\n",
    "plt.show\n",
    "\n",
    "print(max(scores, key=scores.get))\n",
    "\n"
   ]
  },
  {
   "cell_type": "code",
   "execution_count": 318,
   "metadata": {},
   "outputs": [
    {
     "name": "stdout",
     "output_type": "stream",
     "text": [
      "HDBSCAN(min_cluster_size=2) this params score is 0.4228171410562349\n"
     ]
    }
   ],
   "source": [
    "km = HDBSCAN(min_cluster_size=2, \n",
    "            #cluster_selection_epsilon=1.5\n",
    "            ) \n",
    "labels = km.fit_predict(contact_matrixs)\n",
    "score = cluster_score(km ,contact_matrixs,  labels)\n",
    "scores[km] = score\n",
    "print(f'{km} this params score is {score}')"
   ]
  },
  {
   "cell_type": "code",
   "execution_count": 319,
   "metadata": {},
   "outputs": [
    {
     "name": "stdout",
     "output_type": "stream",
     "text": [
      "Cluster 0:['TRGRKCFRRK', 'TRGRKCSRRK', 'FRWGKPVFKK', 'CRGRKCCRRK', 'FRWGKCVGKK', 'IRGRKCCRRK', 'FRWGKPVLKK', 'KKRRVVKVY', 'KRWGKPVGKK', 'FRWPKPVGKK', 'CRWGKPVGKK', 'FRWKKPVGKK', 'TRGRKCNRRK', 'FRWYKPVGKK', 'FRWGKKVGKK', 'FRWGKPVQKK', 'WRWGKPVGKK', 'TRGRKCPRRK', 'FRWGKRVGKK', 'FRWGKPTGKK', 'RRGRKCCRRK', 'FRWGKWVGKK', 'FRWGKPRGKK', 'FRWGKPNGKK', 'KKRRKVKVY', 'FRWGKPSGKK', 'KKRRCVKVY', 'TRGRKCWRRK', 'SRGRKCCRRK', 'VRGRKCCRRK', 'FRWSKPVGKK', 'TRGRKCGRRK', 'ARGRKCCRRK', 'FRWGKPIGKK', 'FRWGKPQGKK', 'FRWNKPVGKK', 'KYYCRVRGKR', 'KRGRKCCRRK', 'KYYCRVRGCR', 'FRGRKCCRRK', 'FRWGKPFGKK', 'KKRRSVKVY', 'FRWGKPAGKK', 'KKRRQVKVY', 'TRGRKCCRRK', 'TRGRKCYRRK', 'KYYCRVRGHR', 'KYYCRVRGPR', 'KYYCRVRGRR', 'FRWGKPGGKK', 'GRGRKCCRRK', 'FRWGKIVGKK', 'KYYCRVRGWR', 'TRGRKCRRRK', 'FRWGKPVRKK', 'TRGRKCLRRK', 'NRGRKCCRRK', 'KYYCRVRGYR', 'FRWGKPHGKK', 'KYYRRVRGGR', 'FRWCKPVGKK', 'TRGRKCQRRK', 'TRGRKCVRRK', 'TRGRKCHRRK', 'TRGRKCERRK', 'TRGRKCMRRK', 'KKRRPVKVY', 'TRGRKCKRRK', 'KKRRWVKVY', 'QRGRKCCRRK', 'ERGRKCCRRK', 'FRWGKGVGKK', 'TRGRKCTRRK', 'LRGRKCCRRK', 'FRWGKPCGKK', 'FRWGKPPGKK', 'WRGRKCCRRK', 'KKRRFVKVY', 'KKRRYVKVY', 'FRWGKPKGKK', 'FRWRKPVGKK', 'HRGRKCCRRK', 'MRGRKCCRRK', 'FRWIKPVGKK', 'FRWGKPVPKK', 'FRWHKPVGKK', 'KKRRHVKVY', 'FRWWKPVGKK', 'KKRRIVKVY', 'FRWGKPWGKK']\n",
      " 90\n",
      "Cluster 1:['PRGRKCCRRK', 'FRWQKPVGKK', 'KKRRRVKVY', 'FRWGKPVWKK', 'TRGRKCARRK', 'FRWFKPVGKK', 'FRWGKPYGKK', 'FRWTKPVGKK', 'KKRRDVKVY', 'FRWGKPVIKK', 'DRGRKCCRRK', 'TRGRKCIRRK', 'FRWGKFVGKK', 'KKRRTVKVY', 'RRWGKPVGKK', 'TRGRKCDRRK', 'RGRKCCRRKK', 'FRWGKPVKKK', 'KKRRAVKVY', 'YRGRKCCRRK']\n",
      " 20\n"
     ]
    }
   ],
   "source": [
    "cluster_keys = {}\n",
    "for label in set(labels):\n",
    "    cluster_keys[label] = []\n",
    "for i, label in enumerate(labels):\n",
    "    cluster_keys[label].append(peptide_names[i])\n",
    "final_label = []\n",
    "for label in sorted(cluster_keys):\n",
    "        print(f'Cluster {label}:{cluster_keys[label]}\\n {len(cluster_keys[label])}')\n",
    "f.close()  "
   ]
  },
  {
   "cell_type": "code",
   "execution_count": 320,
   "metadata": {},
   "outputs": [
    {
     "name": "stderr",
     "output_type": "stream",
     "text": [
      "No artists with labels found to put in legend.  Note that artists whose label start with an underscore are ignored when legend() is called with no argument.\n"
     ]
    },
    {
     "data": {
      "image/png": "[encoded data removed]",
      "text/plain": [
       "<Figure size 640x480 with 1 Axes>"
      ]
     },
     "metadata": {},
     "output_type": "display_data"
    }
   ],
   "source": [
    "tsne = TSNE(n_components=2, perplexity=5, random_state=42)\n",
    "X_tsne = tsne.fit_transform(contact_matrixs)\n",
    "\n",
    "# 2D散点图\n",
    "fig, ax = plt.subplots()\n",
    "\n",
    "for i in range(clusters_number):\n",
    "    ax.scatter(X_tsne[labels==i, 0], \n",
    "            X_tsne[labels==i, 1], \n",
    "            )\n",
    "ax.legend()\n",
    "plt.show()"
   ]
  },
  {
   "cell_type": "code",
   "execution_count": 326,
   "metadata": {},
   "outputs": [
    {
     "name": "stdout",
     "output_type": "stream",
     "text": [
      "['TRGRKCFRRK', 'TRGRKCSRRK', 'FRWGKPVFKK', 'CRGRKCCRRK', 'FRWGKCVGKK', 'IRGRKCCRRK', 'FRWGKPVLKK', 'KKRRVVKVY', 'KRWGKPVGKK', 'FRWPKPVGKK', 'CRWGKPVGKK', 'FRWKKPVGKK', 'TRGRKCNRRK', 'FRWYKPVGKK', 'FRWGKKVGKK', 'FRWGKPVQKK', 'WRWGKPVGKK', 'TRGRKCPRRK', 'FRWGKRVGKK', 'FRWGKPTGKK', 'RRGRKCCRRK', 'FRWGKWVGKK', 'FRWGKPRGKK', 'FRWGKPNGKK', 'KKRRKVKVY', 'FRWGKPSGKK', 'KKRRCVKVY', 'TRGRKCWRRK', 'SRGRKCCRRK', 'VRGRKCCRRK', 'FRWSKPVGKK', 'TRGRKCGRRK', 'ARGRKCCRRK', 'FRWGKPIGKK', 'FRWGKPQGKK', 'FRWNKPVGKK', 'KYYCRVRGKR', 'KRGRKCCRRK', 'KYYCRVRGCR', 'FRGRKCCRRK', 'FRWGKPFGKK', 'KKRRSVKVY', 'FRWGKPAGKK', 'KKRRQVKVY', 'TRGRKCCRRK', 'TRGRKCYRRK', 'KYYCRVRGHR', 'KYYCRVRGPR', 'KYYCRVRGRR', 'FRWGKPGGKK', 'GRGRKCCRRK', 'FRWGKIVGKK', 'KYYCRVRGWR', 'TRGRKCRRRK', 'FRWGKPVRKK', 'TRGRKCLRRK', 'NRGRKCCRRK', 'KYYCRVRGYR', 'FRWGKPHGKK', 'KYYRRVRGGR', 'FRWCKPVGKK', 'TRGRKCQRRK', 'TRGRKCVRRK', 'TRGRKCHRRK', 'TRGRKCERRK', 'TRGRKCMRRK', 'KKRRPVKVY', 'TRGRKCKRRK', 'KKRRWVKVY', 'QRGRKCCRRK', 'ERGRKCCRRK', 'FRWGKGVGKK', 'TRGRKCTRRK', 'LRGRKCCRRK', 'FRWGKPCGKK', 'FRWGKPPGKK', 'WRGRKCCRRK', 'KKRRFVKVY', 'KKRRYVKVY', 'FRWGKPKGKK', 'FRWRKPVGKK', 'HRGRKCCRRK', 'MRGRKCCRRK', 'FRWIKPVGKK', 'FRWGKPVPKK', 'FRWHKPVGKK', 'KKRRHVKVY', 'FRWWKPVGKK', 'KKRRIVKVY', 'FRWGKPWGKK']\n",
      "['PRGRKCCRRK', 'FRWQKPVGKK', 'KKRRRVKVY', 'FRWGKPVWKK', 'TRGRKCARRK', 'FRWFKPVGKK', 'FRWGKPYGKK', 'FRWTKPVGKK', 'KKRRDVKVY', 'FRWGKPVIKK', 'DRGRKCCRRK', 'TRGRKCIRRK', 'FRWGKFVGKK', 'KKRRTVKVY', 'RRWGKPVGKK', 'TRGRKCDRRK', 'RGRKCCRRKK', 'FRWGKPVKKK', 'KKRRAVKVY', 'YRGRKCCRRK']\n"
     ]
    }
   ],
   "source": [
    "\n",
    "cluster_labels_pdb = []\n",
    "for cluster_labels_keys in cluster_keys.keys():\n",
    "    cluster_labels_pdb.append(cluster_keys[cluster_labels_keys])\n",
    "\n",
    "a = 0\n",
    "\n",
    "for cluster_label_pdb in cluster_labels_pdb:\n",
    "    print(cluster_label_pdb)\n",
    "    i = 0\n",
    "    a = a + 1\n",
    "  # 定义输出pdb文件名\n",
    "    out_file = os.path.join(peptide_pdb_dir, f'{a}.pdb' )\n",
    "    \n",
    "    for pdb in cluster_label_pdb:\n",
    "       \n",
    "        pdb_file = os.path.join(peptide_pdb_dir, pdb + '.pdb')\n",
    "        with open(out_file, 'a') as f_out:\n",
    "            with open(pdb_file) as f_in:\n",
    "              i = i + 1\n",
    "              f_out.write(f'\\nMODEL {i}\\n')\n",
    "              \n",
    "              # 过滤掉MODEL/END/ENDMDL行\n",
    "              lines = [line for line in f_in if 'MODEL' not in line \n",
    "                        and 'END' not in line and 'ENDMDL' not in line]  \n",
    "\n",
    "              f_out.write(''.join(lines))\n",
    "\n",
    "              f_out.write(f_in.read())\n",
    "              f_out.write('END\\n')\n",
    "              f_out.write('ENDMDL\\n\\n')\n"
   ]
  },
  {
   "cell_type": "code",
   "execution_count": 325,
   "metadata": {},
   "outputs": [
    {
     "name": "stdout",
     "output_type": "stream",
     "text": [
      "['TRGRKCFRRK', 'TRGRKCSRRK', 'FRWGKPVFKK', 'CRGRKCCRRK', 'FRWGKCVGKK', 'IRGRKCCRRK', 'FRWGKPVLKK', 'KKRRVVKVY', 'KRWGKPVGKK', 'FRWPKPVGKK', 'CRWGKPVGKK', 'FRWKKPVGKK', 'TRGRKCNRRK', 'FRWYKPVGKK', 'FRWGKKVGKK', 'FRWGKPVQKK', 'WRWGKPVGKK', 'TRGRKCPRRK', 'FRWGKRVGKK', 'FRWGKPTGKK', 'RRGRKCCRRK', 'FRWGKWVGKK', 'FRWGKPRGKK', 'FRWGKPNGKK', 'KKRRKVKVY', 'FRWGKPSGKK', 'KKRRCVKVY', 'TRGRKCWRRK', 'SRGRKCCRRK', 'VRGRKCCRRK', 'FRWSKPVGKK', 'TRGRKCGRRK', 'ARGRKCCRRK', 'FRWGKPIGKK', 'FRWGKPQGKK', 'FRWNKPVGKK', 'KYYCRVRGKR', 'KRGRKCCRRK', 'KYYCRVRGCR', 'FRGRKCCRRK', 'FRWGKPFGKK', 'KKRRSVKVY', 'FRWGKPAGKK', 'KKRRQVKVY', 'TRGRKCCRRK', 'TRGRKCYRRK', 'KYYCRVRGHR', 'KYYCRVRGPR', 'KYYCRVRGRR', 'FRWGKPGGKK', 'GRGRKCCRRK', 'FRWGKIVGKK', 'KYYCRVRGWR', 'TRGRKCRRRK', 'FRWGKPVRKK', 'TRGRKCLRRK', 'NRGRKCCRRK', 'KYYCRVRGYR', 'FRWGKPHGKK', 'KYYRRVRGGR', 'FRWCKPVGKK', 'TRGRKCQRRK', 'TRGRKCVRRK', 'TRGRKCHRRK', 'TRGRKCERRK', 'TRGRKCMRRK', 'KKRRPVKVY', 'TRGRKCKRRK', 'KKRRWVKVY', 'QRGRKCCRRK', 'ERGRKCCRRK', 'FRWGKGVGKK', 'TRGRKCTRRK', 'LRGRKCCRRK', 'FRWGKPCGKK', 'FRWGKPPGKK', 'WRGRKCCRRK', 'KKRRFVKVY', 'KKRRYVKVY', 'FRWGKPKGKK', 'FRWRKPVGKK', 'HRGRKCCRRK', 'MRGRKCCRRK', 'FRWIKPVGKK', 'FRWGKPVPKK', 'FRWHKPVGKK', 'KKRRHVKVY', 'FRWWKPVGKK', 'KKRRIVKVY', 'FRWGKPWGKK']\n",
      "90\n"
     ]
    }
   ],
   "source": [
    "# 获取第一个键对应的值\n",
    "first_value = cluster_keys[list(cluster_keys.keys())[0]]\n",
    "\n",
    "# 获取其他键对应的值(除了最多的那个)并合并到 result 列表中\n",
    "result = [v for k, v in cluster_keys.items() if k != first_key]\n",
    "\n",
    "# 将所有值合并为一个列表\n",
    "result = [item for sublist in result for item in sublist]\n",
    "\n",
    "print(first_value)\n",
    "print(len(first_value))\n"
   ]
  },
  {
   "cell_type": "code",
   "execution_count": 345,
   "metadata": {},
   "outputs": [
    {
     "name": "stdout",
     "output_type": "stream",
     "text": [
      "90\n"
     ]
    }
   ],
   "source": [
    "\n",
    "another_peptide_coords = []\n",
    "another_peptide_names = []\n",
    "for pdb in os.listdir(new_dir):\n",
    "    if pdb.endswith('.pdb'):\n",
    "        coords = []\n",
    "        with open(os.path.join(new_dir, pdb)) as f:\n",
    "            for line in f:\n",
    "                if line.startswith('ATOM'):\n",
    "                    x = float(line[30:38])\n",
    "                    y = float(line[38:46]) \n",
    "                    z = float(line[46:54])\n",
    "                    coords.append([x, y, z])\n",
    "        another_peptide_coords.append(coords)\n",
    "        another_peptide_names.append(pdb.split('.')[0])\n",
    "print(len(another_peptide_coords))\n"
   ]
  },
  {
   "cell_type": "code",
   "execution_count": 346,
   "metadata": {},
   "outputs": [
    {
     "name": "stdout",
     "output_type": "stream",
     "text": [
      "90\n"
     ]
    }
   ],
   "source": [
    "def calc_contacts(peptide_idx, peptide_coords, protein_coords):\n",
    "    dists = [0] * len(protein_coords)\n",
    "    for p_idx, p_coord in enumerate(protein_coords):\n",
    "        contact = 0\n",
    "        for pe_coord in peptide_coords[peptide_idx]:\n",
    "            dist = np.linalg.norm(np.array(p_coord) - np.array(pe_coord))  \n",
    "            if dist < 7:\n",
    "                contact += 1\n",
    "                #break\n",
    "        \n",
    "        dists[p_idx] = contact\n",
    "        \n",
    "    return dists\n",
    "\n",
    "another_contact_matrices = []\n",
    "\n",
    "with mp.Pool() as pool:\n",
    "    results = [pool.apply_async(calc_contacts, args=(i, another_peptide_coords, protein_coords)) \n",
    "            for i in range(len(another_peptide_coords))]\n",
    "    another_contact_matrices = [r.get() for r in results]\n",
    "print(len(another_contact_matrices))"
   ]
  },
  {
   "cell_type": "code",
   "execution_count": 347,
   "metadata": {},
   "outputs": [
    {
     "name": "stdout",
     "output_type": "stream",
     "text": [
      "90\n"
     ]
    }
   ],
   "source": [
    "another_contact_matrixs = []\n",
    "for dists in another_contact_matrices:\n",
    "    another_contact_matrixs.append(dists)\n",
    "another_contact_matrixs = np.array(another_contact_matrixs)\n",
    "print(len(another_contact_matrixs))"
   ]
  },
  {
   "cell_type": "code",
   "execution_count": 348,
   "metadata": {},
   "outputs": [
    {
     "name": "stdout",
     "output_type": "stream",
     "text": [
      "HDBSCAN(min_cluster_size=2) this params score is 0.03641182603021069\n",
      "HDBSCAN(min_cluster_size=3) this params score is 0.060520331340626066\n",
      "HDBSCAN(min_cluster_size=4) this params score is 0.029077882687332628\n",
      "HDBSCAN() this params score is 0.02097636849854689\n",
      "HDBSCAN(min_cluster_size=6) this params score is 0.013597043296271708\n",
      "HDBSCAN(min_cluster_size=7) this params score is -0.00507771664402636\n",
      "HDBSCAN(min_cluster_size=8) this params score is -0.04164319187535643\n",
      "HDBSCAN(min_cluster_size=9) this params score is -0.04306700635967764\n",
      "HDBSCAN(min_cluster_size=10) this params score is 0\n",
      "HDBSCAN(min_cluster_size=11) this params score is 0\n",
      "HDBSCAN(min_cluster_size=12) this params score is 0\n",
      "HDBSCAN(min_cluster_size=13) this params score is 0\n",
      "HDBSCAN(min_cluster_size=14) this params score is 0\n",
      "HDBSCAN(min_cluster_size=3)\n"
     ]
    },
    {
     "data": {
      "image/png": "[encoded data removed]",
      "text/plain": [
       "<Figure size 640x480 with 1 Axes>"
      ]
     },
     "metadata": {},
     "output_type": "display_data"
    }
   ],
   "source": [
    "\n",
    "scores = {}\n",
    "for clusters_number in range(2, 15):\n",
    "    #for eps in [x*0.1 for x in range(1,20,2)]:\n",
    "\n",
    "        km = HDBSCAN(min_cluster_size = clusters_number,\n",
    "                     #cluster_selection_epsilon = eps\n",
    "                     ) \n",
    "        labels = km.fit_predict(another_contact_matrixs)\n",
    "        score = cluster_score(km ,another_contact_matrixs,  labels)\n",
    "        scores[km] = score\n",
    "        print(f'{km} this params score is {score}')\n",
    "\n",
    "\n",
    "plt.plot(list(range(len(scores))), scores.values())\n",
    "plt.xlabel('Trials') \n",
    "plt.ylabel('Silhouette Score')\n",
    "plt.title('Silhouette Score vs Trials')\n",
    "plt.show\n",
    "\n",
    "print(max(scores, key=scores.get))\n",
    "\n",
    "\n"
   ]
  },
  {
   "cell_type": "code",
   "execution_count": 349,
   "metadata": {},
   "outputs": [
    {
     "name": "stdout",
     "output_type": "stream",
     "text": [
      "HDBSCAN(min_cluster_size=2) this params score is 0.03641182603021069\n",
      "90\n"
     ]
    }
   ],
   "source": [
    "\n",
    "km1 =HDBSCAN(min_cluster_size = 2)\n",
    "\n",
    "labels = km1.fit_predict(another_contact_matrixs)\n",
    "score = cluster_score(km1 ,another_contact_matrixs,  labels)\n",
    "scores[km1] = score\n",
    "print(f'{km1} this params score is {score}\\n{len(labels)}')"
   ]
  },
  {
   "cell_type": "code",
   "execution_count": 350,
   "metadata": {},
   "outputs": [
    {
     "name": "stdout",
     "output_type": "stream",
     "text": [
      "Cluster -1:['PRGRKCCRRK', 'FRWGKKVGKK', 'TRGRKCPRRK', 'FRWGKPTGKK', 'RRGRKCCRRK', 'FRWGKWVGKK', 'FRWGKPRGKK', 'FRWGKPSGKK', 'KKRRCVKVY', 'SRGRKCCRRK', 'FRWGKPVWKK', 'ARGRKCCRRK', 'FRWGKPQGKK', 'KYYCRVRGKR', 'FRGRKCCRRK', 'FRWGKPFGKK', 'FRWGKPAGKK', 'TRGRKCCRRK', 'KYYCRVRGHR', 'GRGRKCCRRK', 'KYYCRVRGYR', 'FRWGKPHGKK', 'FRWGKFVGKK', 'RRWGKPVGKK', 'TRGRKCHRRK', 'TRGRKCERRK', 'QRGRKCCRRK', 'ERGRKCCRRK']\n",
      "\n",
      "Cluster 0:['KKRRTVKVY', 'TRGRKCQRRK']\n",
      "\n",
      "Cluster 1:['FRWGKPVLKK', 'TRGRKCWRRK']\n",
      "\n",
      "Cluster 2:['TRGRKCNRRK', 'KYYCRVRGCR', 'NRGRKCCRRK']\n",
      "\n",
      "Cluster 3:['FRWGKCVGKK', 'KKRRVVKVY', 'FRWYKPVGKK', 'TRGRKCYRRK', 'TRGRKCMRRK', 'KKRRWVKVY', 'FRWGKGVGKK']\n",
      "\n",
      "Cluster 4:['WRWGKPVGKK', 'TRGRKCGRRK']\n",
      "\n",
      "Cluster 5:['CRGRKCCRRK', 'TRGRKCRRRK']\n",
      "\n",
      "Cluster 6:['FRWGKRVGKK', 'FRWGKPVRKK']\n",
      "\n",
      "Cluster 7:['IRGRKCCRRK', 'TRGRKCLRRK', 'DRGRKCCRRK']\n",
      "\n",
      "Cluster 8:['KKRRSVKVY', 'FRWGKPGGKK']\n",
      "\n",
      "Cluster 9:['KKRRDVKVY', 'TRGRKCDRRK']\n",
      "\n",
      "Cluster 10:['FRWGKPVFKK', 'FRWGKPVQKK']\n",
      "\n",
      "Cluster 11:['FRWKKPVGKK', 'FRWQKPVGKK', 'FRWTKPVGKK', 'FRWGKIVGKK', 'KKRRPVKVY', 'RGRKCCRRKK']\n",
      "\n",
      "Cluster 12:['KRWGKPVGKK', 'FRWPKPVGKK', 'CRWGKPVGKK', 'KKRRKVKVY', 'FRWFKPVGKK', 'KYYCRVRGWR', 'KYYRRVRGGR', 'FRWCKPVGKK', 'TRGRKCKRRK']\n",
      "\n",
      "Cluster 13:['FRWGKPIGKK', 'KYYCRVRGRR']\n",
      "\n",
      "Cluster 14:['FRWNKPVGKK', 'KRGRKCCRRK', 'KYYCRVRGPR']\n",
      "\n",
      "Cluster 15:['FRWGKPNGKK', 'VRGRKCCRRK']\n",
      "\n",
      "Cluster 16:['TRGRKCARRK', 'FRWSKPVGKK']\n",
      "\n",
      "Cluster 17:['KKRRRVKVY', 'FRWGKPYGKK', 'FRWGKPVIKK', 'TRGRKCIRRK', 'FRWGKPVKKK']\n",
      "\n",
      "Cluster 18:['TRGRKCFRRK', 'KKRRQVKVY']\n",
      "\n",
      "Cluster 19:['TRGRKCSRRK', 'TRGRKCVRRK']\n",
      "\n"
     ]
    },
    {
     "name": "stderr",
     "output_type": "stream",
     "text": [
      "No artists with labels found to put in legend.  Note that artists whose label start with an underscore are ignored when legend() is called with no argument.\n"
     ]
    },
    {
     "data": {
      "image/png": "[encoded data removed]",
      "text/plain": [
       "<Figure size 640x480 with 1 Axes>"
      ]
     },
     "metadata": {},
     "output_type": "display_data"
    }
   ],
   "source": [
    "another_cluster_keys = {}\n",
    "for label in set(labels):\n",
    "    another_cluster_keys[label] = []\n",
    "for i, label in enumerate(labels):\n",
    "    another_cluster_keys[label].append(peptide_names[i])\n",
    "final_label = []\n",
    "for label in sorted(another_cluster_keys):\n",
    "        print(f'Cluster {label}:{another_cluster_keys[label]}\\n')\n",
    "f.close()  \n",
    "\n",
    "tsne = TSNE(n_components=2, perplexity=5, random_state=42)\n",
    "X_tsne = tsne.fit_transform(another_contact_matrixs)\n",
    "\n",
    "# 2D散点图\n",
    "fig, ax = plt.subplots()\n",
    "\n",
    "for i in range(clusters_number):\n",
    "    ax.scatter(X_tsne[labels==i, 0], \n",
    "            X_tsne[labels==i, 1], \n",
    "            )\n",
    "ax.legend()\n",
    "plt.show()"
   ]
  },
  {
   "cell_type": "code",
   "execution_count": 344,
   "metadata": {},
   "outputs": [
    {
     "name": "stdout",
     "output_type": "stream",
     "text": [
      "['KKRRTVKVY', 'TRGRKCQRRK']\n"
     ]
    },
    {
     "ename": "FileNotFoundError",
     "evalue": "[Errno 2] No such file or directory: '/mnt/sdc/lanwei/MC1R/HPEP/v3/first_cluster/KKRRTVKVY.pdb'",
     "output_type": "error",
     "traceback": [
      "\u001b[0;31m---------------------------------------------------------------------------\u001b[0m",
      "\u001b[0;31mFileNotFoundError\u001b[0m                         Traceback (most recent call last)",
      "\u001b[1;32mUntitled-1.ipynb 单元格 23\u001b[0m line \u001b[0;36m2\n\u001b[1;32m     <a href='vscode-notebook-cell:Untitled-1.ipynb?jupyter-notebook#X31sdW50aXRsZWQ%3D?line=22'>23</a>\u001b[0m f_out\u001b[39m.\u001b[39mwrite(\u001b[39mf\u001b[39m\u001b[39m'\u001b[39m\u001b[39m\\n\u001b[39;00m\u001b[39mMODEL \u001b[39m\u001b[39m{\u001b[39;00mi\u001b[39m}\u001b[39;00m\u001b[39m\\n\u001b[39;00m\u001b[39m'\u001b[39m)\n\u001b[1;32m     <a href='vscode-notebook-cell:Untitled-1.ipynb?jupyter-notebook#X31sdW50aXRsZWQ%3D?line=24'>25</a>\u001b[0m \u001b[39m# 过滤掉MODEL/END/ENDMDL行\u001b[39;00m\n\u001b[0;32m---> <a href='vscode-notebook-cell:Untitled-1.ipynb?jupyter-notebook#X31sdW50aXRsZWQ%3D?line=25'>26</a>\u001b[0m \u001b[39mwith\u001b[39;00m \u001b[39mopen\u001b[39;49m(pdb_file) \u001b[39mas\u001b[39;00m f_in:\n\u001b[1;32m     <a href='vscode-notebook-cell:Untitled-1.ipynb?jupyter-notebook#X31sdW50aXRsZWQ%3D?line=26'>27</a>\u001b[0m     lines \u001b[39m=\u001b[39m [line \u001b[39mfor\u001b[39;00m line \u001b[39min\u001b[39;00m f_in \u001b[39mif\u001b[39;00m \u001b[39m'\u001b[39m\u001b[39mMODEL\u001b[39m\u001b[39m'\u001b[39m \u001b[39mnot\u001b[39;00m \u001b[39min\u001b[39;00m line\n\u001b[1;32m     <a href='vscode-notebook-cell:Untitled-1.ipynb?jupyter-notebook#X31sdW50aXRsZWQ%3D?line=27'>28</a>\u001b[0m              \u001b[39mand\u001b[39;00m \u001b[39m'\u001b[39m\u001b[39mEND\u001b[39m\u001b[39m'\u001b[39m \u001b[39mnot\u001b[39;00m \u001b[39min\u001b[39;00m line \u001b[39mand\u001b[39;00m \u001b[39m'\u001b[39m\u001b[39mENDMDL\u001b[39m\u001b[39m'\u001b[39m \u001b[39mnot\u001b[39;00m \u001b[39min\u001b[39;00m line]\n\u001b[1;32m     <a href='vscode-notebook-cell:Untitled-1.ipynb?jupyter-notebook#X31sdW50aXRsZWQ%3D?line=29'>30</a>\u001b[0m     f_out\u001b[39m.\u001b[39mwrite(\u001b[39m'\u001b[39m\u001b[39m'\u001b[39m\u001b[39m.\u001b[39mjoin(lines))\n",
      "File \u001b[0;32m~/anaconda3/envs/AmberTools20/lib/python3.9/site-packages/IPython/core/interactiveshell.py:284\u001b[0m, in \u001b[0;36m_modified_open\u001b[0;34m(file, *args, **kwargs)\u001b[0m\n\u001b[1;32m    277\u001b[0m \u001b[39mif\u001b[39;00m file \u001b[39min\u001b[39;00m {\u001b[39m0\u001b[39m, \u001b[39m1\u001b[39m, \u001b[39m2\u001b[39m}:\n\u001b[1;32m    278\u001b[0m     \u001b[39mraise\u001b[39;00m \u001b[39mValueError\u001b[39;00m(\n\u001b[1;32m    279\u001b[0m         \u001b[39mf\u001b[39m\u001b[39m\"\u001b[39m\u001b[39mIPython won\u001b[39m\u001b[39m'\u001b[39m\u001b[39mt let you open fd=\u001b[39m\u001b[39m{\u001b[39;00mfile\u001b[39m}\u001b[39;00m\u001b[39m by default \u001b[39m\u001b[39m\"\u001b[39m\n\u001b[1;32m    280\u001b[0m         \u001b[39m\"\u001b[39m\u001b[39mas it is likely to crash IPython. If you know what you are doing, \u001b[39m\u001b[39m\"\u001b[39m\n\u001b[1;32m    281\u001b[0m         \u001b[39m\"\u001b[39m\u001b[39myou can use builtins\u001b[39m\u001b[39m'\u001b[39m\u001b[39m open.\u001b[39m\u001b[39m\"\u001b[39m\n\u001b[1;32m    282\u001b[0m     )\n\u001b[0;32m--> 284\u001b[0m \u001b[39mreturn\u001b[39;00m io_open(file, \u001b[39m*\u001b[39;49margs, \u001b[39m*\u001b[39;49m\u001b[39m*\u001b[39;49mkwargs)\n",
      "\u001b[0;31mFileNotFoundError\u001b[0m: [Errno 2] No such file or directory: '/mnt/sdc/lanwei/MC1R/HPEP/v3/first_cluster/KKRRTVKVY.pdb'"
     ]
    }
   ],
   "source": [
    "another_cluster_labels_pdb = []\n",
    "\n",
    "# 迭代每个簇标签\n",
    "for cluster_label_pdb in another_cluster_keys.keys():\n",
    "    another_cluster_labels_pdb.append(another_cluster_keys[cluster_label_pdb])\n",
    "\n",
    "a = 0\n",
    "\n",
    "# 迭代每个簇的PDB文件\n",
    "for cluster_label_pdb in another_cluster_labels_pdb:\n",
    "    print(cluster_label_pdb)\n",
    "    i = 0\n",
    "    a += 1\n",
    "\n",
    "    # 定义输出pdb文件名\n",
    "    out_file = os.path.join(new_dir, f'another_{a}.pdb')  # 更新文件名\n",
    "\n",
    "    with open(out_file, 'w') as f_out:\n",
    "        # 迭代每个PDB文件\n",
    "        for pdb in cluster_label_pdb:\n",
    "            pdb_file = os.path.join(new_dir, pdb + '.pdb')\n",
    "            i += 1\n",
    "            f_out.write(f'\\nMODEL {i}\\n')\n",
    "\n",
    "            # 过滤掉MODEL/END/ENDMDL行\n",
    "            with open(pdb_file) as f_in:\n",
    "                lines = [line for line in f_in if 'MODEL' not in line\n",
    "                         and 'END' not in line and 'ENDMDL' not in line]\n",
    "                \n",
    "                f_out.write(''.join(lines))\n",
    "\n",
    "            f_out.write('END\\n')\n",
    "            f_out.write('ENDMDL\\n\\n')\n"
   ]
  }
 ],
 "metadata": {
  "kernelspec": {
   "display_name": "AmberTools20",
   "language": "python",
   "name": "python3"
  },
  "language_info": {
   "codemirror_mode": {
    "name": "ipython",
    "version": 3
   },
   "file_extension": ".py",
   "mimetype": "text/x-python",
   "name": "python",
   "nbconvert_exporter": "python",
   "pygments_lexer": "ipython3",
   "version": "3.9.15"
  }
 },
 "nbformat": 4,
 "nbformat_minor": 2
}
