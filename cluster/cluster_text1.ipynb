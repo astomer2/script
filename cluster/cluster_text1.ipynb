{
 "cells": [
  {
   "cell_type": "code",
   "execution_count": 1,
   "metadata": {},
   "outputs": [],
   "source": [
    "import os\n",
    "import numpy as np\n",
    "import logging\n",
    "import time\n",
    "from collections import Counter\n",
    "import math\n",
    "import random\n",
    "\n",
    "import hdbscan\n",
    "from pathlib import Path\n",
    "from hdbscan import validity\n",
    "from sklearn.manifold import TSNE\n",
    "from tqdm import tqdm\n",
    "from joblib import Parallel, delayed\n",
    "\n",
    "import multiprocessing as mp\n",
    "import matplotlib.pyplot as plt\n",
    "from shutil import copyfile\n",
    "\n",
    "logger = logging.getLogger(__name__)\n",
    "logger.setLevel(logging.INFO)\n",
    "handler = logging.StreamHandler()\n",
    "formatter = logging.Formatter('%(asctime)s - %(levelname)s - %(message)s')\n",
    "handler.setFormatter(formatter)\n",
    "logger.addHandler(handler)\n",
    "now_times = time.strftime(\"%Y-%m-%d %H:%M:%S\", time.localtime())\n"
   ]
  },
  {
   "cell_type": "code",
   "execution_count": 2,
   "metadata": {},
   "outputs": [],
   "source": [
    "protein_pdb = \"/mnt/nas1/lanwei-125/PRLR/structure_prepare/PRLR.pdb\"\n",
    "peptide_pdb_dir = \"/mnt/nas1/lanwei-125/PRLR/HPEP/hpep-result/\"\n",
    "cluster_path = \"/mnt/nas1/lanwei-125/PRLR/HPEP/6_8aa_cluster/\"\n",
    "\n",
    "protein_pdb = Path(protein_pdb)\n",
    "peptide_pdb_dir = Path(peptide_pdb_dir)\n",
    "cluster_path = Path(cluster_path)\n",
    "peptide_number = 1\n",
    "\n",
    "DBCV_score_vs_trials = cluster_path / \"DBCV_score_vs_trials.png\"\n",
    "cluster_result = cluster_path / \"cluster_result.txt\"\n",
    "point_plot = cluster_path / \"cluster_point_plot.png\"\n",
    "\n",
    "HPEP = True  # if your structures are from HPEP, set it to True, else set it to False\n",
    "ADCP = False  # if your structures are from ADCP, set it to True, else set it to False\n",
    "contact_cutoff = 7  # 6 angstroms"
   ]
  },
  {
   "cell_type": "code",
   "execution_count": 4,
   "metadata": {},
   "outputs": [
    {
     "name": "stderr",
     "output_type": "stream",
     "text": [
      "2023-12-29 09:15:57,803 - INFO - Read protein 1684 atom coordinates from target PDB file.\n"
     ]
    }
   ],
   "source": [
    "protein_coords = []\n",
    "with open(protein_pdb) as f:\n",
    "    for line in f:\n",
    "        if line.startswith(\"ATOM\"):\n",
    "            x = float(line[30:38])\n",
    "            y = float(line[38:46])\n",
    "            z = float(line[46:54])\n",
    "            protein_coords.append([x, y, z])\n",
    "logger.info(f\"Read protein {len(protein_coords)} atom coordinates from target PDB file.\")\n"
   ]
  },
  {
   "cell_type": "code",
   "execution_count": 5,
   "metadata": {},
   "outputs": [
    {
     "name": "stderr",
     "output_type": "stream",
     "text": [
      "2023-12-29 09:16:41,359 - INFO - 2023-12-29 09:13:11: read 684 peptides\n"
     ]
    }
   ],
   "source": [
    "peptide_coords = []\n",
    "peptide_names = []\n",
    "for pdb_path in Path(peptide_pdb_dir).glob(\"*.pdb\"):\n",
    "    coords = []\n",
    "    if len(pdb_path.stem) < 9:\n",
    "        with open(pdb_path) as f:\n",
    "            for line in f:\n",
    "                if line.startswith(\"ATOM\"):\n",
    "                    x = float(line[30:38])\n",
    "                    y = float(line[38:46])\n",
    "                    z = float(line[46:54])\n",
    "                    coords.append([x, y, z])\n",
    "        peptide_coords.append(coords)\n",
    "        peptide_names.append(pdb_path.stem)\n",
    "    \n",
    "logger.info(f'{now_times}: read {len(peptide_coords)} peptides')\n"
   ]
  },
  {
   "cell_type": "code",
   "execution_count": 6,
   "metadata": {},
   "outputs": [],
   "source": [
    "def calc_contacts(peptide_idx, peptide_coords, protein_coords, contact_cutoff):\n",
    "    \"\"\"\n",
    "    Calculate the number of contacts between a peptide and a protein.\n",
    "\n",
    "    Parameters:\n",
    "    - peptide_idx (int): The index of the peptide in the list of peptide coordinates.\n",
    "    - peptide_coords (list): A list of lists containing the coordinates of each peptide.\n",
    "    - protein_coords (list): A list containing the coordinates of the protein.\n",
    "    - contact_cutoff (float): The distance threshold for considering a contact.\n",
    "\n",
    "    Returns:\n",
    "    - dists (list): A list containing the number of contacts for each protein coordinate.\n",
    "    \"\"\"\n",
    "    dists = [0] * len(protein_coords)\n",
    "    for p_idx, p_coord in enumerate(protein_coords):\n",
    "        contact = 0\n",
    "        for pe_coord in peptide_coords[peptide_idx]:\n",
    "            dist = np.linalg.norm(np.array(p_coord) - np.array(pe_coord))\n",
    "            if dist < contact_cutoff:\n",
    "                contact += 1\n",
    "        dists[p_idx] = contact\n",
    " \n",
    "    return dists"
   ]
  },
  {
   "cell_type": "code",
   "execution_count": 7,
   "metadata": {},
   "outputs": [
    {
     "name": "stderr",
     "output_type": "stream",
     "text": [
      "2023-12-29 09:17:22,046 - INFO - 2023-12-29 09:13:11 contact_matrices length: 684\n"
     ]
    }
   ],
   "source": [
    "contact_matrices = []\n",
    "with mp.Pool() as pool:\n",
    "    results = [\n",
    "        pool.apply_async(\n",
    "            calc_contacts, args=(i, peptide_coords, protein_coords, contact_cutoff)\n",
    "        )\n",
    "        for i in range(len(peptide_coords))\n",
    "    ]\n",
    "    contact_matrices = [r.get() for r in results]\n",
    "logger.info(f'{now_times} contact_matrices length: {len(contact_matrices)}')"
   ]
  },
  {
   "cell_type": "code",
   "execution_count": 8,
   "metadata": {},
   "outputs": [
    {
     "name": "stderr",
     "output_type": "stream",
     "text": [
      "2023-12-29 09:17:25,232 - INFO - contact_matrices length: 684\n"
     ]
    }
   ],
   "source": [
    "contact_matrixs = []\n",
    "for dists in contact_matrices:\n",
    "    contact_matrixs.append(dists)\n",
    "contact_matrixs = np.array(contact_matrixs)\n",
    "\n",
    "logger.info(f\"contact_matrices length: {len(contact_matrices)}\")"
   ]
  },
  {
   "cell_type": "code",
   "execution_count": 9,
   "metadata": {},
   "outputs": [
    {
     "name": "stderr",
     "output_type": "stream",
     "text": [
      "100%|██████████| 135/135 [00:13<00:00, 10.17it/s]\n"
     ]
    },
    {
     "data": {
      "image/png": "[encoded data removed]",
      "text/plain": [
       "<Figure size 640x480 with 1 Axes>"
      ]
     },
     "metadata": {},
     "output_type": "display_data"
    },
    {
     "name": "stderr",
     "output_type": "stream",
     "text": [
      "2023-12-29 09:17:44,575 - INFO - 2023-12-29 09:13:11 Best Model: HDBSCAN(cluster_selection_epsilon=0.1, core_dist_n_jobs=-1,\n",
      "        gen_min_span_tree=True, min_cluster_size=2, min_samples=3), Score: 0.18809943468718496\n"
     ]
    }
   ],
   "source": [
    "\n",
    "scores = {}\n",
    "\n",
    "def run_hdbscan(params):\n",
    "    min_cluster_size, min_samples, eps, cluster_selection_method = params\n",
    "    hdb = hdbscan.HDBSCAN(\n",
    "        min_cluster_size=min_cluster_size,\n",
    "        min_samples=min_samples,\n",
    "        cluster_selection_epsilon=eps,\n",
    "        cluster_selection_method=cluster_selection_method,\n",
    "        gen_min_span_tree=True,\n",
    "        core_dist_n_jobs=-1,\n",
    "    ).fit(contact_matrixs)\n",
    "    score = hdb.relative_validity_\n",
    "    return hdb, score\n",
    "\n",
    "min_cluster_sizes = list(range(2, 5))\n",
    "min_samples_values = list(range(2, 5))\n",
    "eps_values = [x * 0.1 for x in range(1, 30, 2)]\n",
    "cluster_selection_methods = [\n",
    "    \"eom\", \n",
    "    #\"leaf\"\n",
    "    ]\n",
    "\n",
    "param_combinations = [\n",
    "    (min_cluster_size, min_samples, eps, cluster_selection_method)\n",
    "    for min_cluster_size in min_cluster_sizes\n",
    "    for min_samples in min_samples_values\n",
    "    for eps in eps_values\n",
    "    for cluster_selection_method in cluster_selection_methods\n",
    "]\n",
    "\n",
    "results = Parallel(n_jobs=-1)(\n",
    "    delayed(run_hdbscan)(params) for params in tqdm(param_combinations)\n",
    ")\n",
    "\n",
    "\n",
    "for hdb, score in results:\n",
    "    scores[hdb] = score\n",
    "\n",
    "plt.plot(list(range(len(scores))), scores.values())\n",
    "plt.xlabel(\"Trials\")\n",
    "plt.ylabel(\"DBCV Score\")\n",
    "plt.title(\"DBCV Score vs Trials\")\n",
    "plt.show()\n",
    "#plt.savefig(DBCV_score_vs_trials)\n",
    "\n",
    "best_model = max(scores, key=scores.get)\n",
    "\n",
    "logger.info(f\"{now_times} Best Model: {best_model}, Score: {scores[best_model]}\")"
   ]
  },
  {
   "cell_type": "code",
   "execution_count": 10,
   "metadata": {},
   "outputs": [
    {
     "name": "stderr",
     "output_type": "stream",
     "text": [
      "2023-12-29 09:17:52,446 - INFO - 2023-12-29 09:13:11 Best Model: HDBSCAN(cluster_selection_epsilon=0.1, core_dist_n_jobs=-1,\n",
      "        gen_min_span_tree=True, min_cluster_size=2, min_samples=3), Score: 0.18809943468718496\n"
     ]
    }
   ],
   "source": [
    "'''\n",
    "hdb = hdbscan.HDBSCAN(cluster_selection_epsilon=0.1, core_dist_n_jobs=-1,\n",
    "        gen_min_span_tree=True, min_cluster_size=2, min_samples=2).fit(contact_matrixs)\n",
    "'''\n",
    "hdb=best_model.fit(contact_matrices)\n",
    "labels = hdb.labels_\n",
    "score = hdb.relative_validity_\n",
    "logger.info(f'{now_times} Best Model: {best_model}, Score: {score}')"
   ]
  },
  {
   "cell_type": "code",
   "execution_count": 11,
   "metadata": {},
   "outputs": [
    {
     "name": "stderr",
     "output_type": "stream",
     "text": [
      "2023-12-29 09:17:53,874 - INFO - 2023-12-29 09:13:11 Cluster information saved to /mnt/nas1/lanwei-125/PRLR/HPEP/6_8aa_cluster/cluster_result.txt\n"
     ]
    }
   ],
   "source": [
    "cluster_keys = {}\n",
    "for label in set(labels):\n",
    "    tabel = int(label)\n",
    "    cluster_keys[label] = []\n",
    "for i, label in enumerate(labels):\n",
    "    cluster_keys[label].append(peptide_names[i])\n",
    "for label in sorted(cluster_keys):\n",
    "    with open(cluster_result, \"a+\") as f:\n",
    "        f.write(\n",
    "            f\"Cluster {label}:{cluster_keys[label]}\\n {len(cluster_keys[label])}\\n\"\n",
    "        )\n",
    "logger.info(f\"{now_times} Cluster information saved to {cluster_result}\")"
   ]
  },
  {
   "cell_type": "code",
   "execution_count": 12,
   "metadata": {},
   "outputs": [
    {
     "name": "stderr",
     "output_type": "stream",
     "text": [
      "2023-12-29 09:18:00,692 - INFO - 2023-12-29 09:13:11 2D t-SNE plot saved to /mnt/nas1/lanwei-125/PRLR/HPEP/6_8aa_cluster/cluster_point_plot.png\n"
     ]
    },
    {
     "data": {
      "image/png": "[encoded data removed]",
      "text/plain": [
       "<Figure size 640x480 with 1 Axes>"
      ]
     },
     "metadata": {},
     "output_type": "display_data"
    }
   ],
   "source": [
    "tsne = TSNE()\n",
    "X_tsne = tsne.fit_transform(contact_matrixs)\n",
    "fig, ax = plt.subplots()\n",
    "for i in range(len(cluster_keys)):\n",
    "    ax.scatter(\n",
    "        X_tsne[labels == i, 0],\n",
    "        X_tsne[labels == i, 1],\n",
    "    )\n",
    "plt.savefig(point_plot)\n",
    "logger.info(f\"{now_times} 2D t-SNE plot saved to {point_plot}\")"
   ]
  },
  {
   "cell_type": "code",
   "execution_count": 12,
   "metadata": {},
   "outputs": [
    {
     "name": "stderr",
     "output_type": "stream",
     "text": [
      "2023-12-20 10:02:30,794 - INFO - 2023-12-20 10:01:44 52 peptides are randomly selected\n"
     ]
    },
    {
     "data": {
      "text/plain": [
       "{0: ['CYIVQCLLG',\n",
       "  'CYIQECKLG',\n",
       "  'CPIGNC',\n",
       "  'GSCSGAFCPRSI',\n",
       "  'CHPAKTVC',\n",
       "  'CPSDKPPC',\n",
       "  'CKPDGPPC',\n",
       "  'GKCHAAFCFRRD',\n",
       "  'CPVDKPQC',\n",
       "  'CTDKNCPLG'],\n",
       " 1: ['CTSESDC',\n",
       "  'CNGTEC',\n",
       "  'CQTESC',\n",
       "  'CYSFECPLG',\n",
       "  'CPSDKC',\n",
       "  'ACIAEYACMY',\n",
       "  'CKNGKCPLG',\n",
       "  'CPSDKCPLG',\n",
       "  'SECEMCPDK',\n",
       "  'CYIQHCEVG',\n",
       "  'CDKEMCPLG',\n",
       "  'CTPEDC',\n",
       "  'CYILPCVDV',\n",
       "  'CTNKPESC',\n",
       "  'CVLNHVSC',\n",
       "  'CNSNCPQLG',\n",
       "  'CTSQKDC',\n",
       "  'CSEKTC',\n",
       "  'SCAINNCPM',\n",
       "  'CSLEQCPLR',\n",
       "  'CTNQEC',\n",
       "  'CHEYGSPC',\n",
       "  'CYIIECNLG',\n",
       "  'CNNINTPCGG',\n",
       "  'CTKEDDCPK',\n",
       "  'CTSNEPDC',\n",
       "  'GSCFGAMCKKRD'],\n",
       " 2: ['CTEDKDC'],\n",
       " 3: ['CRYATC'],\n",
       " 4: ['GSCFGAFCAGVD'],\n",
       " 5: ['CTKPSEC', 'CHPHIEVC'],\n",
       " 6: ['CTTKEPESC',\n",
       "  'CESIMTWADC',\n",
       "  'CEIEWCTM',\n",
       "  'GSCFGAFCYSDP',\n",
       "  'DCGAMICYEY',\n",
       "  'CYIIGCYLG',\n",
       "  'CEEIGPWTLC',\n",
       "  'CYNEYCPLG',\n",
       "  'CTQEDC',\n",
       "  'DQCMLPGCE']}"
      ]
     },
     "execution_count": 12,
     "metadata": {},
     "output_type": "execute_result"
    }
   ],
   "source": [
    "\n",
    "# 定义函数extract_random_peptides，用于从每个集群中提取随机肽段\n",
    "# 参数cluster_keys：每个集群的键\n",
    "# 参数random_peptides：每个集群中要提取的随机肽段数量\n",
    "def extract_random_peptides(cluster_keys, random_peptides):\n",
    "    # 创建一个字典real_cluster，用于存储每个集群的键和值\n",
    "    real_cluster = {}\n",
    "    # 遍历cluster_keys，将每个集群的键和值存入real_cluster中\n",
    "    for i in range(0,len(cluster_keys)-1):\n",
    "        a= cluster_keys[i]\n",
    "        real_cluster[i] = a \n",
    "\n",
    "    # 计算每个集群中肽段的数量\n",
    "    total_peptides = sum(len(peptides) for peptides in real_cluster.values())\n",
    "    # 计算每个集群中每个肽段的权重\n",
    "    weights = {label: len(peptides) / total_peptides for label, peptides in real_cluster.items()}\n",
    "    # 计算每个集群中要提取的随机肽段数量\n",
    "    peptides_to_extract = {label: math.ceil(random_peptides * weight) for label, weight in weights.items()}\n",
    "\n",
    "    # 创建一个字典selected_peptides，用于存储每个集群中提取的随机肽段\n",
    "    selected_peptides = {}\n",
    "    # 遍历real_cluster，从每个集群中提取指定数量的随机肽段\n",
    "    for label, peptides in real_cluster.items():\n",
    "        selected_peptides[label] = random.sample(peptides, peptides_to_extract[label])\n",
    "        \n",
    "    # 计算提取的随机肽段的总数量\n",
    "    real_random_peptides = sum(len(peptides) for peptides in selected_peptides.values())\n",
    "    # 输出日志信息\n",
    "    logger.info(f\"{now_times} {real_random_peptides} peptides are randomly selected\")\n",
    "    # 返回提取的随机肽段\n",
    "    return selected_peptides\n",
    "\n",
    "selected_peptides = extract_random_peptides(cluster_keys, peptide_number)\n",
    "selected_peptides\n",
    "\n",
    "\n",
    "\n",
    "\n"
   ]
  },
  {
   "cell_type": "code",
   "execution_count": 13,
   "metadata": {},
   "outputs": [
    {
     "name": "stderr",
     "output_type": "stream",
     "text": [
      "2023-12-29 09:18:47,689 - INFO - 2023-12-29 09:13:11 6 peptides are selected from all cluster\n"
     ]
    },
    {
     "data": {
      "text/plain": [
       "{0: ['YIHNLS'],\n",
       " 1: ['RRHKDNY'],\n",
       " 2: ['KRYTHGRG'],\n",
       " 3: ['YYNLLHCL'],\n",
       " 4: ['HYIHNL'],\n",
       " -1: ['EIYPVWS']}"
      ]
     },
     "execution_count": 13,
     "metadata": {},
     "output_type": "execute_result"
    }
   ],
   "source": [
    "\n",
    "# Function to get the score of a peptide from the pdb file\n",
    "def get_score(peptide, peptide_pdb_dir, HPEP, ADCP):\n",
    "    pdb_file = Path(peptide_pdb_dir) / f\"{peptide}.pdb\"\n",
    "    with open(pdb_file) as f:\n",
    "        for line in f:\n",
    "            if HPEP:\n",
    "                score_marker = \"REMARK ITScore\"\n",
    "            elif ADCP:\n",
    "                score_marker = \"REMARK SCORE\"\n",
    "            else:\n",
    "                break\n",
    "            if line.startswith(score_marker):\n",
    "                return float(line.split()[-1])\n",
    "\n",
    "def score_cluster(HDB_cluster_dict, peptide_pdb_dir, HPEP, ADCP, peptide_number):\n",
    "    \n",
    "    min_scores = {}\n",
    "    total_peptides = sum(len(peptides) for peptides in HDB_cluster_dict.values())\n",
    "    weights = {label: len(peptides) / total_peptides for label, peptides in HDB_cluster_dict.items()}\n",
    "    peptides_to_extract = {label: math.ceil(peptide_number * weight) for label, weight in weights.items()}\n",
    "\n",
    "    for label, peptides in HDB_cluster_dict.items():\n",
    "        min_score_peptides = []\n",
    "        peptides.sort(key=lambda peptide: get_score(peptide, peptide_pdb_dir, HPEP, ADCP))\n",
    "        min_score_peptides = peptides[:peptides_to_extract[label]]\n",
    "        min_scores[label] = min_score_peptides\n",
    "\n",
    "    count = 0\n",
    "    for label, peptides in min_scores.items():\n",
    "        count += len(peptides)\n",
    "\n",
    "    logger.info(f\"{now_times} {count} peptides are selected from all cluster\")\n",
    "    \n",
    "    return min_scores\n",
    "\n",
    "selected_peptides = score_cluster(cluster_keys, peptide_pdb_dir, HPEP, ADCP, peptide_number)\n",
    "selected_peptides"
   ]
  },
  {
   "cell_type": "code",
   "execution_count": 14,
   "metadata": {},
   "outputs": [
    {
     "data": {
      "text/plain": [
       "'    \\n        #判断二硫键\\n        with open(original_pdb) as f:\\n            lines = f.readlines()\\n        sg_atoms = [line for line in lines if line.startswith(\\'ATOM\\') and line[21] == \"E\" and line[12:16].strip() == \\'SG\\']\\n        if len(sg_atoms) == 2:\\n            x1, y1, z1 = [float(sg_atoms[0][30:38]), float(sg_atoms[0][38:46]), float(sg_atoms[0][46:54])]\\n            x2, y2, z2 = [float(sg_atoms[1][30:38]), float(sg_atoms[1][38:46]), float(sg_atoms[1][46:54])]\\n            dist = ((x1 - x2) ** 2 + (y1 - y2) ** 2 + (z1 - z2) ** 2) ** 0.5\\n\\n            if not clustered_pdb.exists() and dist < 2.5:\\n                print(clustered_pdb)\\n                copyfile(original_pdb, clustered_pdb)\\n\\n'"
      ]
     },
     "execution_count": 14,
     "metadata": {},
     "output_type": "execute_result"
    }
   ],
   "source": [
    "cluster_label_pdbs = []\n",
    "cluster_laber_tags = []\n",
    "for cluster_labels_keys in selected_peptides.keys():\n",
    "    cluster_laber_tags.append(int(cluster_labels_keys))\n",
    "    cluster_label_pdbs.append(selected_peptides[cluster_labels_keys])\n",
    "    #print(cluster_labels_keys, selected_peptides[cluster_labels_keys],len(selected_peptides[cluster_labels_keys]))\n",
    "\n",
    "for cluster_label_pdb, cluster_laber_tag in zip(cluster_label_pdbs, cluster_laber_tags):\n",
    "    #print(cluster_label_pdb, cluster_laber_tag)\n",
    "    cluster_dir = Path(cluster_path) / f\"cluster_{cluster_laber_tag}\"\n",
    "\n",
    "    if not cluster_dir.exists():\n",
    "        cluster_dir.mkdir(parents=True, exist_ok=True)\n",
    "        \n",
    "    for peptide in cluster_label_pdb:\n",
    "        original_pdb = Path(peptide_pdb_dir) / f\"{peptide}.pdb\"\n",
    "        clustered_pdb = cluster_dir / f\"{peptide}.pdb\"\n",
    "        if not clustered_pdb.exists():\n",
    "            copyfile(original_pdb, clustered_pdb)        \n",
    "'''    \n",
    "        #判断二硫键\n",
    "        with open(original_pdb) as f:\n",
    "            lines = f.readlines()\n",
    "        sg_atoms = [line for line in lines if line.startswith('ATOM') and line[21] == \"E\" and line[12:16].strip() == 'SG']\n",
    "        if len(sg_atoms) == 2:\n",
    "            x1, y1, z1 = [float(sg_atoms[0][30:38]), float(sg_atoms[0][38:46]), float(sg_atoms[0][46:54])]\n",
    "            x2, y2, z2 = [float(sg_atoms[1][30:38]), float(sg_atoms[1][38:46]), float(sg_atoms[1][46:54])]\n",
    "            dist = ((x1 - x2) ** 2 + (y1 - y2) ** 2 + (z1 - z2) ** 2) ** 0.5\n",
    "\n",
    "            if not clustered_pdb.exists() and dist < 2.5:\n",
    "                print(clustered_pdb)\n",
    "                copyfile(original_pdb, clustered_pdb)\n",
    "\n",
    "'''\n",
    "\n",
    "        "
   ]
  },
  {
   "cell_type": "code",
   "execution_count": 15,
   "metadata": {},
   "outputs": [
    {
     "name": "stderr",
     "output_type": "stream",
     "text": [
      "2023-12-29 09:19:41,886 - INFO - 2023-12-29 09:13:11 Clustered PDB files saved to /mnt/nas1/lanwei-125/PRLR/HPEP/6_8aa_cluster\n"
     ]
    }
   ],
   "source": [
    "cluster_label_pdbs = []\n",
    "cluster_laber_tags = []\n",
    "for cluster_labels_keys in cluster_keys.keys():\n",
    "    cluster_laber_tags.append(int(cluster_labels_keys))\n",
    "    cluster_label_pdbs.append(cluster_keys[cluster_labels_keys])\n",
    "\n",
    "for cluster_label_pdb, cluster_laber_tag in zip(cluster_label_pdbs, cluster_laber_tags):\n",
    "    out_file = Path(cluster_path) / f\"{cluster_laber_tag}.pdb\"\n",
    "    i = 0\n",
    "    for pdb in cluster_label_pdb:\n",
    "        pdb_file = Path(peptide_pdb_dir) / f\"{pdb}.pdb\"\n",
    "        with open(out_file, \"a\") as f_out, open(pdb_file) as f_in:\n",
    "            i = i + 1\n",
    "            f_out.write(f\"\\nMODEL {i}\\n\")\n",
    "            # Filter out MODEL/END/ENDMDL lines\n",
    "            lines = [\n",
    "                line\n",
    "                for line in f_in\n",
    "                if \"MODEL\" not in line\n",
    "                and \"END\" not in line\n",
    "                and \"ENDMDL\" not in line\n",
    "            ]\n",
    "            f_out.write(\"\".join(lines))\n",
    "            f_out.write(f_in.read())\n",
    "            f_out.write(\"END\\n\")\n",
    "            f_out.write(\"ENDMDL\\n\\n\")    \n",
    "logger.info(f\"{now_times} Clustered PDB files saved to {cluster_path}\")"
   ]
  }
 ],
 "metadata": {
  "kernelspec": {
   "display_name": "Amber20",
   "language": "python",
   "name": "python3"
  },
  "language_info": {
   "codemirror_mode": {
    "name": "ipython",
    "version": 3
   },
   "file_extension": ".py",
   "mimetype": "text/x-python",
   "name": "python",
   "nbconvert_exporter": "python",
   "pygments_lexer": "ipython3",
   "version": "3.9.15"
  }
 },
 "nbformat": 4,
 "nbformat_minor": 2
}
