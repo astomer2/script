{
 "cells": [
  {
   "cell_type": "code",
   "execution_count": null,
   "metadata": {},
   "outputs": [],
   "source": [
    "import pandas as pd\n",
    "from pprint import pprint\n",
    "from pandas.api.types import CategoricalDtype\n",
    "\n",
    "# 读取数据\n",
    "row_data = r\"C:\\Users\\123\\Desktop\\jobwork\\subject\\ADIPOR1\\对接结果验证\\ADIPOR-adcp-docking-result-sort1.xlsx\"\n",
    "sort_data = r\"C:\\Users\\123\\Desktop\\jobwork\\subject\\ADIPOR1\\对接结果验证\\test.xlsx\"\n",
    "#sort_data2 = r\"C:\\Users\\123\\Desktop\\jobwork\\subject\\ADIPOR1\\对接结果验证\\ADIPOR-adcp-docking-result-sort2.xlsx\"\n",
    "\n",
    "# 读取数据\n",
    "df1 = pd.read_excel(row_data, sheet_name='BFE', header=0)  #index_col=0,header=None\n",
    "df2 = pd.read_excel(row_data, sheet_name='experiment', header=0, usecols='A')#index_col=0,header=None\n",
    "#df3 = pd.read_excel(row_data, sheet_name='experiment', usecols='A')#index_col=0\n",
    "\n",
    "# 根据df2.A列排序\n",
    "index_list = CategoricalDtype(categories=df2['Sequence'].values.tolist(), ordered=True)\n",
    "data1 = df1.sort_values(by='Sequence', key=lambda x: x.astype(index_list))\n",
    "#data2 = df2.sort_values(by='SEQUENCE', key=lambda x: x.astype(index_list))\n",
    "print(data1)\n",
    "#print(data2)\n",
    "\n",
    "# 导出排序后的数据\n",
    "with pd.ExcelWriter(sort_data) as writer:\n",
    "    data1.to_excel(writer, sheet_name='BFE', index=False)\n",
    "    #data2.to_excel(writer, sheet_name='whole', index=False)\n",
    "\n"
   ]
  },
  {
   "cell_type": "code",
   "execution_count": null,
   "metadata": {},
   "outputs": [],
   "source": [
    "from scipy import stats\n",
    "import numpy as np\n",
    "import pandas as pd\n",
    "from pprint import pprint\n",
    "from pandas.api.types import CategoricalDtype\n",
    "\n",
    "#使用pandas读取数据集\n",
    "data = r\"C:\\Users\\123\\Desktop\\jobwork\\subject\\ADIPOR1\\对接结果验证\\ADIPOR-adcp-docking-result-sort1.xlsx\"\n",
    "#print (sort_data)\n",
    "\n",
    "#df1 = pd.read_excel(sort_data, sheet_name='EC-domain', header=0)\n",
    "df2 = pd.read_excel(data, sheet_name='BFE', header=0)\n",
    "df3 = pd.read_excel(data, sheet_name='experiment', header=0)\n",
    "\n",
    "x = df2['Score (kcal/mol)'].values\n",
    "y = df3['Protein GST-ADIPOR1, 1 µg/ml'].values\n",
    "#pprint(x)\n",
    "pprint(y)\n",
    "#计算spearman相关系数\n",
    "def calc_spearmanr(x, y):\n",
    "    \"\"\"\n",
    "    EC-domain:0.23851000167794026\n",
    "    EC-domain-var:-0.09565097378286704\n",
    "    whole:-0.16407639920648967\n",
    "    whole-var:0.02270644944024262\n",
    "    colab-ADIPOR:-0.09296812459038827\n",
    "    colab-TGF:0.16990192172037577\n",
    "    adcp:-0.410847346917238\n",
    "    colab-TGF-BFE:0.24530783271176249\n",
    "    colab-ADIPOR-BFE:0.3040942312702203\n",
    "    \"\"\"\n",
    "    res = stats.spearmanr(x, y).correlation\n",
    "    #spearman_ratio = res.statistic\n",
    "    return res\n",
    "pprint(calc_spearmanr(x, y))\n"
   ]
  }
 ],
 "metadata": {
  "kernelspec": {
   "display_name": "lan",
   "language": "python",
   "name": "python3"
  },
  "language_info": {
   "codemirror_mode": {
    "name": "ipython",
    "version": 3
   },
   "file_extension": ".py",
   "mimetype": "text/x-python",
   "name": "python",
   "nbconvert_exporter": "python",
   "pygments_lexer": "ipython3",
   "version": "3.10.9"
  },
  "orig_nbformat": 4
 },
 "nbformat": 4,
 "nbformat_minor": 2
}
