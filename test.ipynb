{
 "cells": [
  {
   "cell_type": "code",
   "execution_count": 13,
   "metadata": {},
   "outputs": [
    {
     "name": "stdout",
     "output_type": "stream",
     "text": [
      "done\n"
     ]
    }
   ],
   "source": [
    "import MDAnalysis as mda\n",
    "from MDAnalysis.analysis.hydrogenbonds.hbond_analysis import HydrogenBondAnalysis as HBA\n",
    "# 读取PDB文件,包含100帧\n",
    "u = mda.Universe('/mnt/nas1/lanwei-125/IL8/v1/QHSHPYP/fixed.prmtop','/mnt/nas1/lanwei-125/IL8/v1/QHSHPYP/fixed.mdcrd')\n",
    "hbonds = HBA(universe=u,donors_sel='resid 1:141',acceptors_sel='resid 142:149')\n",
    "hbonds.run()\n",
    "print(hbonds.results.hbonds)"
   ]
  },
  {
   "cell_type": "code",
   "execution_count": null,
   "metadata": {},
   "outputs": [],
   "source": [
    "\n",
    "import os\n",
    "import csv\n",
    "import pandas as pd\n",
    "import matplotlib.pyplot as plt\n",
    "\n",
    "# 设置图形大小\n",
    "plt.figure(figsize=(15,8)) \n",
    "\n",
    "hbond = '/mnt/nas1/lanwei-125/IL8/v2/QHSHPYP/nhb.dat'\n",
    "# 判断xvg文件是否存在\n",
    "x = []\n",
    "y = []\n",
    "with open(hbond,'r') as f:\n",
    "    next(f) # 跳过第一行\n",
    "    for line in f:\n",
    "        cols = line.split()\n",
    "        x.append(float(cols[0])/500) \n",
    "        y.append(float(cols[1]))\n",
    "\n",
    "# 绘制折线图\n",
    "#plt.plot(x, y, '-', label=subdir) \n",
    "#plt.plot(x, y, 'r-', label=subdir)       \n",
    "plt.plot(x, y,  linewidth=0.5)\n",
    "\n",
    "# 设置轴标签        \n",
    "plt.xlabel('Time (ns)')\n",
    "plt.ylabel('hbond (numbers)') \n",
    "\n",
    "# 设置图例\n",
    "plt.legend(loc = 'upper center',bbox_to_anchor=(0.5, 1.15), ncol = 5 )\n",
    "\n",
    "plt.show()\n",
    "# 保存图像\n",
    "#plt.savefig(RMSD_line,dpi = 600)"
   ]
  }
 ],
 "metadata": {
  "kernelspec": {
   "display_name": "AmberTools20",
   "language": "python",
   "name": "python3"
  },
  "language_info": {
   "codemirror_mode": {
    "name": "ipython",
    "version": 3
   },
   "file_extension": ".py",
   "mimetype": "text/x-python",
   "name": "python",
   "nbconvert_exporter": "python",
   "pygments_lexer": "ipython3",
   "version": "3.9.15"
  },
  "orig_nbformat": 4
 },
 "nbformat": 4,
 "nbformat_minor": 2
}
