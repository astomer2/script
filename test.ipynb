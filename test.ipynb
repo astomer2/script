{
 "cells": [
  {
   "cell_type": "code",
   "execution_count": null,
   "metadata": {},
   "outputs": [],
   "source": [
    "import os\n",
    "from pprint import pprint\n",
    "path =  '/mnt/sdc/lanwei/IL8/v1'\n",
    "score_line = {}\n",
    "for root, dirs, files in os.walk(path):\n",
    "    for dir in dirs:\n",
    "        sub_path = os.path.join(root, dir)\n",
    "        if 'log.txt' not in os.listdir(sub_path):\n",
    "            continue\n",
    "        log_file = open(sub_path + '/log.txt', 'r')\n",
    "        if sum(1 for line in log_file) < 20:\n",
    "            print(f'your docking job {dir} was failed,please cheak or rerun')\n",
    "            continue\n",
    "        log_file.seek(0)\n",
    "        best_score = log_file.readlines()[14]\n",
    "        if best_score == '':\n",
    "            continue\n",
    "        best_score_split = best_score.split()\n",
    "        if best_score_split[0] != '1':\n",
    "            print(f'cheak your {dir} logfiles, you score is not the best')\n",
    "            continue\n",
    "        score = best_score_split[1]\n",
    "        \n",
    "        score_line[dir] =  score\n",
    "pprint(score_line)\n",
    "\n",
    "min_scores  = {}\n",
    "for dirs, scores in score_line.items():\n",
    "    sequence = (dirs.split(\"-\")[0])\n",
    "    if sequence not in min_scores or float(scores) < float(min_scores[dirs]):\n",
    "        min_scores[dirs] = scores\n",
    "    "
   ]
  }
 ],
 "metadata": {
  "kernelspec": {
   "display_name": "lan",
   "language": "python",
   "name": "python3"
  },
  "language_info": {
   "codemirror_mode": {
    "name": "ipython",
    "version": 3
   },
   "file_extension": ".py",
   "mimetype": "text/x-python",
   "name": "python",
   "nbconvert_exporter": "python",
   "pygments_lexer": "ipython3",
   "version": "3.11.5"
  },
  "orig_nbformat": 4
 },
 "nbformat": 4,
 "nbformat_minor": 2
}
